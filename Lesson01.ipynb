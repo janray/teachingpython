{
 "cells": [
  {
   "cell_type": "markdown",
   "metadata": {},
   "source": [
    "There are 4 built-in data tupes in Python:\n",
    "\n",
    "1. List\n",
    "2. Tuple\n",
    "3. Set\n",
    "4. Dictionary\n",
    "\n",
    "list:\n",
    " - ordered\n",
    " - changeable (mutable)\n",
    " - allows for duplicate members"
   ]
  },
  {
   "cell_type": "code",
   "execution_count": 12,
   "metadata": {},
   "outputs": [
    {
     "name": "stdout",
     "output_type": "stream",
     "text": [
      "['Shaina', 'Donna', 'RJ', 'Louie', 'Joseph', 'Morris']\n",
      "['Magdayao', 'Donna', 'RJ', 'Louie', 'Joseph', 'Morris']\n"
     ]
    }
   ],
   "source": [
    "# \"list\" example\n",
    "names = [\"Shaina\", \"Donna\", \"RJ\", \"Louie\", \"Joseph\", \"Morris\"]\n",
    "\n",
    "print(names)\n",
    "\n",
    "names[0] = \"Magdayao\"\n",
    "\n",
    "print(names)\n"
   ]
  },
  {
   "cell_type": "code",
   "execution_count": 17,
   "metadata": {},
   "outputs": [
    {
     "name": "stdout",
     "output_type": "stream",
     "text": [
      "['RJ', 'Louie', 'Joseph']\n"
     ]
    }
   ],
   "source": [
    "new_names = names[2:5]\n",
    "\n",
    "print(new_names)"
   ]
  },
  {
   "cell_type": "code",
   "execution_count": 21,
   "metadata": {},
   "outputs": [
    {
     "name": "stdout",
     "output_type": "stream",
     "text": [
      "['Joseph', 15, 'Donna', 7]\n",
      "JosephJosephJosephJosephJosephJosephJosephJosephJosephJosephJosephJosephJosephJosephJoseph\n"
     ]
    }
   ],
   "source": [
    "list1 = [\"Joseph\", 15, \"Donna\", 7]\n",
    "print(list1)\n",
    "print(list1[0] * list1[1])"
   ]
  },
  {
   "cell_type": "code",
   "execution_count": 25,
   "metadata": {},
   "outputs": [
    {
     "name": "stdout",
     "output_type": "stream",
     "text": [
      "[]\n",
      "[['Joseph', 15, 'Donna', 7], 2]\n"
     ]
    }
   ],
   "source": [
    "list2 = []\n",
    "\n",
    "print(list2)\n",
    "\n",
    "list2.append(list1)\n",
    "list2.append(2)\n",
    "\n",
    "print(list2)"
   ]
  },
  {
   "cell_type": "code",
   "execution_count": 26,
   "metadata": {},
   "outputs": [
    {
     "name": "stdout",
     "output_type": "stream",
     "text": [
      "['Joseph', 'Joseph']\n"
     ]
    }
   ],
   "source": [
    "list3 = [\"Joseph\", \"Joseph\"]\n",
    "print(list3)"
   ]
  },
  {
   "cell_type": "markdown",
   "metadata": {},
   "source": [
    "Tuple\n",
    "\n",
    "Tuples are used to store multiple items in a single variable\n",
    "\n",
    "- ordered\n",
    "- unchangeable (immutable)\n",
    "- can have items with the same value\n",
    "\n",
    "Tuples are written with round brackets"
   ]
  },
  {
   "cell_type": "code",
   "execution_count": 28,
   "metadata": {},
   "outputs": [
    {
     "name": "stdout",
     "output_type": "stream",
     "text": [
      "(1, 2)\n"
     ]
    }
   ],
   "source": [
    "\n",
    "mytuple = (1, 2)\n",
    "print(mytuple)"
   ]
  },
  {
   "cell_type": "code",
   "execution_count": 38,
   "metadata": {},
   "outputs": [
    {
     "data": {
      "text/plain": [
       "2"
      ]
     },
     "execution_count": 38,
     "metadata": {},
     "output_type": "execute_result"
    }
   ],
   "source": [
    "len(mytuple)"
   ]
  },
  {
   "cell_type": "markdown",
   "metadata": {},
   "source": [
    "Dictionaries\n",
    "\n",
    "Dictionaries are used to store data values in key:value pairs.\n",
    "\n",
    "A dictionary is a collection which is ordered, changeable, and do not allow duplicates."
   ]
  },
  {
   "cell_type": "code",
   "execution_count": 46,
   "metadata": {},
   "outputs": [
    {
     "name": "stdout",
     "output_type": "stream",
     "text": [
      "silver\n"
     ]
    }
   ],
   "source": [
    "this_car = {\n",
    "    \"brand\": \"Toyota\",\n",
    "    \"model\" : \"Raze\",\n",
    "    \"year\" : 2020,\n",
    "    \"color\": [\"red\", \"silver\", \"black\"]\n",
    "}\n",
    "\n",
    "print(this_car[\"color\"][1])\n"
   ]
  }
 ],
 "metadata": {
  "kernelspec": {
   "display_name": "pythonsci",
   "language": "python",
   "name": "python3"
  },
  "language_info": {
   "codemirror_mode": {
    "name": "ipython",
    "version": 3
   },
   "file_extension": ".py",
   "mimetype": "text/x-python",
   "name": "python",
   "nbconvert_exporter": "python",
   "pygments_lexer": "ipython3",
   "version": "3.11.4"
  },
  "orig_nbformat": 4
 },
 "nbformat": 4,
 "nbformat_minor": 2
}
