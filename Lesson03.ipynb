{
 "cells": [
  {
   "cell_type": "markdown",
   "metadata": {},
   "source": [
    "Conditionals\n",
    "\n",
    "if...else\n",
    "if..else if...else\n",
    "\n",
    "\n",
    "Python supports the usual logical conditions from mathematics:\n",
    "\n",
    "Equals: a == b\n",
    "Not equals: a != b\n",
    "Less than: a < b \n",
    "Less than or equal to: a <= b\n",
    "Greater than: a > b\n",
    "Greater than or equal to: a >= b"
   ]
  },
  {
   "cell_type": "code",
   "execution_count": 9,
   "metadata": {},
   "outputs": [
    {
     "name": "stdout",
     "output_type": "stream",
     "text": [
      "negative\n"
     ]
    }
   ],
   "source": [
    "a = -8\n",
    "b = 200\n",
    "if (a < 0):\n",
    "    print(\"negative\")\n",
    "elif (b < a):\n",
    "    print(\"b is less than a \")\n",
    "elif (b > a):\n",
    "    print(\"greater than\")\n",
    "else:\n",
    "    print(\"a is greater than b\")"
   ]
  },
  {
   "cell_type": "code",
   "execution_count": 13,
   "metadata": {},
   "outputs": [
    {
     "name": "stdout",
     "output_type": "stream",
     "text": [
      "Name Jan is an Instructor\n",
      "Name Ray is Instructor gihapon\n",
      "Name ni Joseph Needs eyeglass\n"
     ]
    }
   ],
   "source": [
    "listnames = [\"Jan\", \"Gwapo\",\"Ray\", \"Joseph\", \"RJ\", \"Donna\"]\n",
    "\n",
    "for name in listnames:\n",
    "    if name == \"Jan\":\n",
    "        print(f\"Name {name} is an Instructor\")\n",
    "    elif name == \"Ray\":\n",
    "        print(f\"Name {name} is Instructor gihapon\")\n",
    "    elif name == \"Joseph\":\n",
    "        print(f\"Name ni {name} Needs eyeglass\")\n",
    "    else:\n",
    "        pass"
   ]
  }
 ],
 "metadata": {
  "kernelspec": {
   "display_name": "pycontrol",
   "language": "python",
   "name": "python3"
  },
  "language_info": {
   "codemirror_mode": {
    "name": "ipython",
    "version": 3
   },
   "file_extension": ".py",
   "mimetype": "text/x-python",
   "name": "python",
   "nbconvert_exporter": "python",
   "pygments_lexer": "ipython3",
   "version": "3.11.4"
  },
  "orig_nbformat": 4
 },
 "nbformat": 4,
 "nbformat_minor": 2
}
