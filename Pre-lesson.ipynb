{
 "cells": [
  {
   "cell_type": "markdown",
   "metadata": {},
   "source": [
    "\n",
    "# Python Standard Library\n",
    "\n",
    "Python allows you to split your program into modules that can be reused in other Python programs. It comes with a large collection of standard modules that you can use as the basis of your programs. \n",
    "\n",
    "The **Python Standard Library** consists of different modules for handling file I/O, basic mathematics, etc. You don’t need to install these separately, but you need to important them when you want to use some of these modules or some of the functions within these modules.\n",
    "\n",
    "The ***math*** module has all the basic math functions you need, such as: Trigonometric functions: $sin(x)$, $cos(x)$, etc. Logarithmic functions: $log()$, $log10()$, etc. Constants like $pi$, $e$, $inf$, $nan$, etc."
   ]
  },
  {
   "cell_type": "code",
   "execution_count": 1,
   "metadata": {},
   "outputs": [
    {
     "name": "stdout",
     "output_type": "stream",
     "text": [
      "0.0015926529164868282\n"
     ]
    }
   ],
   "source": [
    "''' \n",
    "Some basic examples of using modules from the Python Standard Library \n",
    "''' \n",
    "\n",
    "# If we need only one function, sin(), for example, we\n",
    "# can do the following\n",
    "from math import sin\n",
    "\n",
    "x = 3.14\n",
    "y = sin(x)\n",
    " \n",
    "print(y) "
   ]
  },
  {
   "cell_type": "code",
   "execution_count": 2,
   "metadata": {},
   "outputs": [
    {
     "name": "stdout",
     "output_type": "stream",
     "text": [
      "Sin of x is 0.0015926529164868282\n",
      "Cosine of x is -0.9999987317275395\n"
     ]
    }
   ],
   "source": [
    "# If we need a few functions, we can do like this:\n",
    "\n",
    "from math import sin, cos\n",
    "\n",
    "x = 3.14\n",
    "y = sin(x)\n",
    "\n",
    "print(f\"Sin of x is {y}\")\n",
    "\n",
    "y = cos(x)\n",
    "print(f\"Cosine of x is {y}\")"
   ]
  },
  {
   "cell_type": "code",
   "execution_count": null,
   "metadata": {},
   "outputs": [],
   "source": [
    "# If we need many functions, we can do like this:\n",
    "from math import *\n",
    "\n",
    "x = pi\n",
    "y = sin(x)\n",
    "\n",
    "print(f\"Sin of x is {y}\")\n",
    "\n",
    "y = cos(x)\n",
    "print(f\"Cosine of x is {y}\")"
   ]
  },
  {
   "cell_type": "code",
   "execution_count": 5,
   "metadata": {},
   "outputs": [
    {
     "name": "stdout",
     "output_type": "stream",
     "text": [
      "The sin of 3.141592653589793 is 1.2246467991473532e-16\n"
     ]
    }
   ],
   "source": [
    "# We can also use this alternative\n",
    "import math\n",
    "\n",
    "x = math.pi\n",
    "y = math.sin(x)\n",
    "\n",
    "print(f\"The sin of {x} is {y}\")"
   ]
  },
  {
   "cell_type": "code",
   "execution_count": 6,
   "metadata": {},
   "outputs": [
    {
     "name": "stdout",
     "output_type": "stream",
     "text": [
      "3.141592653589793\n",
      "1.2246467991473532e-16\n"
     ]
    }
   ],
   "source": [
    "# We can also use an alias for the module and write it like this:\n",
    "import math as mt \n",
    "import numpy as np\n",
    "\n",
    "x = np.pi\n",
    "y = mt.sin(x)\n",
    "\n",
    "print(x)\n",
    "print(y)"
   ]
  },
  {
   "cell_type": "markdown",
   "metadata": {},
   "source": [
    "\n",
    "# Using Python Libraries, Packages, and Modules\n",
    "We can use python libraries, packages, and modules to extend the functionality of Python. Some of the packages that we use are **NumPy**, **SciPy**, and **Matplotlib**, among others.\n",
    "\n",
    "When you are using Anaconda to manage your packages and environments, you can use the command `conda install -c conda-forge <package_name>` while your preferred environment is active. If you to install a package that is not found in the default channel or conda-forge, you can install that package using `pip`. Just make sure that you have activated your preferred conda environment, then run `python -m install <package_name>`."
   ]
  },
  {
   "cell_type": "markdown",
   "metadata": {},
   "source": [
    "\n",
    "# Plotting in Python\n",
    "\n",
    "## Plotting data\n",
    "In order to make charts in Python, we will need an external library. Some of the most common libraries are **Matplotlib** and [**PyQtGraph**](https://www.pyqtgraph.org/). In the following examples, we will be using Matplotlib.\n",
    "\n",
    "**Matplotlib** is a Python 2D plotting library.\n",
    "\n",
    "The following are plotting functions that you will use a lot:\n",
    "* plot()\n",
    "* title()\n",
    "* xlabel()\n",
    "* ylabel()\n",
    "* axis()\n",
    "* grid()\n",
    "* subplot()\n",
    "* legend()\n",
    "* show()\n"
   ]
  },
  {
   "cell_type": "code",
   "execution_count": null,
   "metadata": {},
   "outputs": [],
   "source": [
    "''' In this example, we want to plot two arrays, x and y, that contain some data. Let us assume that x is a time series and y is the corresponding temperature in degrees Celsius. '''\n",
    "\n",
    "# First we import the library then plot the two arrays\n",
    "import matplotlib.pyplot as plt\n",
    "\n",
    "x = [1, 2, 3, 4, 5, 6, 7, 8, 9, 10]\n",
    "y = [5, 2, 4, 4, 8, 7, 4, 8, 10, 9]\n",
    "\n",
    "plt.plot(x, y)\n",
    "plt.xlabel('Time (s)')\n",
    "plt.ylabel('Temperature (deg C)')\n",
    "plt.show()\n"
   ]
  },
  {
   "cell_type": "markdown",
   "metadata": {},
   "source": [
    "## Plotting a sine wave\n",
    "The following code plots a rough sine wave:"
   ]
  },
  {
   "cell_type": "code",
   "execution_count": null,
   "metadata": {},
   "outputs": [],
   "source": [
    "import numpy as np\n",
    "import matplotlib.pyplot as plt\n",
    "\n",
    "x = [0, 1, 2, 3, 4, 5, 6, 7]\n",
    "y = np.sin(x)\n",
    "\n",
    "plt.plot(x, y)\n",
    "plt.xlabel('x')\n",
    "plt.ylabel('y')\n",
    "plt.show()"
   ]
  },
  {
   "cell_type": "markdown",
   "metadata": {},
   "source": [
    "A better solution will then be:"
   ]
  },
  {
   "cell_type": "code",
   "execution_count": null,
   "metadata": {},
   "outputs": [],
   "source": [
    "import matplotlib.pyplot as plt\n",
    "import numpy as np\n",
    "\n",
    "xstart = 0\n",
    "xstop = 2 * np.pi\n",
    "increment = 0.1\n",
    "\n",
    "x = np.arange(xstart, xstop, increment)\n",
    "y = np.sin(x)\n",
    "\n",
    "plt.plot(x, y)\n",
    "plt.xlabel('x')\n",
    "plt.ylabel('y')\n",
    "plt.show()"
   ]
  },
  {
   "cell_type": "markdown",
   "metadata": {},
   "source": [
    "## Subplots\n",
    "The matplotlib `subplot` enables you to display multiple plots in the same window. Typing `subplot(m, n, p)` partitions the figure window into an m-by-n matrix of small subplots and selects the subplot for the current plot. The plots are numbered along the first row of the figure window, then the second row, and so on.\n",
    "\n",
    "If you want grids you can use the `grid()` function."
   ]
  },
  {
   "cell_type": "markdown",
   "metadata": {},
   "source": [
    "The following code creates and plots sin() and cos() in 2 different subplots."
   ]
  },
  {
   "cell_type": "code",
   "execution_count": null,
   "metadata": {},
   "outputs": [],
   "source": [
    "import matplotlib.pyplot as plt\n",
    "import numpy as np\n",
    "\n",
    "xstart = 0\n",
    "xstop = 2*np.pi\n",
    "increment = 0.1\n",
    "\n",
    "x = np.arange(xstart, xstop, increment)\n",
    "y = np.sin(x)\n",
    "z = np.cos(x)\n",
    "\n",
    "\n",
    "plt.subplot(2, 1, 1)\n",
    "plt.plot(x, y, 'g')\n",
    "plt.title('sin')\n",
    "plt.xlabel('x')\n",
    "plt.ylabel('sin(x)')\n",
    "plt.grid()\n",
    "plt.show()\n",
    "\n",
    "plt.subplot(2, 1, 2)\n",
    "plt.plot(x, z, 'r')\n",
    "plt.title('cos')\n",
    "plt.xlabel('x')\n",
    "plt.ylabel('cos(x)')\n",
    "plt.grid()\n",
    "plt.show()"
   ]
  },
  {
   "cell_type": "markdown",
   "metadata": {},
   "source": [
    "# Exercise\n",
    "\n",
    "Create $sin(x)$ and $cos(x)$ in 2 different plots."
   ]
  },
  {
   "cell_type": "markdown",
   "metadata": {},
   "source": [
    "$u_s \\longrightarrow \\boxed{G_s}$"
   ]
  }
 ],
 "metadata": {
  "kernelspec": {
   "display_name": "pyeng",
   "language": "python",
   "name": "python3"
  },
  "language_info": {
   "codemirror_mode": {
    "name": "ipython",
    "version": 3
   },
   "file_extension": ".py",
   "mimetype": "text/x-python",
   "name": "python",
   "nbconvert_exporter": "python",
   "pygments_lexer": "ipython3",
   "version": "3.12.5"
  }
 },
 "nbformat": 4,
 "nbformat_minor": 2
}
