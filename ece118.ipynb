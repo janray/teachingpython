{
 "cells": [
  {
   "cell_type": "code",
   "execution_count": null,
   "metadata": {},
   "outputs": [],
   "source": [
    "import numpy as np\n",
    "a = input(\"Enter a: \")\n",
    "b = input(\"Enter b: \")\n",
    "c = input(\"Enter c: \")\n",
    "x = input(\"Enter x: \")\n",
    "a = int(a)\n",
    "b = int(b)\n",
    "c = int(c)\n",
    "x = int(x)\n",
    "polynomial = (a * np.square(x)) + (b * x) + c\n",
    "\n",
    "numer = np.log(polynomial) - np.sin(polynomial)\n",
    "denom = (4 * np.pi * np.square(x)) + (np.cos(x - 2)*polynomial)\n",
    "\n",
    "print(numer/denom)"
   ]
  }
 ],
 "metadata": {
  "kernelspec": {
   "display_name": "pyeng",
   "language": "python",
   "name": "python3"
  },
  "language_info": {
   "codemirror_mode": {
    "name": "ipython",
    "version": 3
   },
   "file_extension": ".py",
   "mimetype": "text/x-python",
   "name": "python",
   "nbconvert_exporter": "python",
   "pygments_lexer": "ipython3",
   "version": "3.12.5"
  }
 },
 "nbformat": 4,
 "nbformat_minor": 2
}
